{
 "cells": [
  {
   "cell_type": "markdown",
   "metadata": {},
   "source": [
    "# Lesson 14 - And The Rest\n",
    "\n",
    "Congratulations! You've done it! You've finished all the lessons, and now should know enough Python to more or less survive.\n",
    "Now for the post-game content! This lesson will be covering various different topics that may have been mentioned in the \n",
    "lessons otherwise, and were definitely used in the graders, but were never officially taught. This is all useful and very \n",
    "important to know, but isn't required to have a basic working knowledge of Python. \n",
    "\n",
    "Also, to say it at the front, this lesson won't have any exercises. Since these concepts are optional, there's no \n",
    "need to demonstrate understanding. If you understand the concepts, you can use them in your code, and that is demonstration \n",
    "enough."
   ]
  },
  {
   "cell_type": "markdown",
   "metadata": {},
   "source": [
    "### List Comprehensions\n",
    "\n",
    "In a few different places, we've mentioned list comprehensions. However, we never explicitly covered them because, \n",
    "functionally speaking, they're not much more than syntactical sugar for `for` loops over a list. That said, they're \n",
    "very useful, and extremely convenient when working with list data. Their primary use is to make a basic transformation \n",
    "to each element of a list, and return a new list with that transformation. The basic pattern looks like this:\n",
    "\n",
    "```\n",
    "[<expression> for <variable-name> in <collection>]\n",
    "```\n",
    "\n",
    "This looks a bit ike a mixed up `for` loop, but also in square brackets. And that's because, functionally, it kind of \n",
    "is. A list comprehension iterates over the collection you give it, assigning each value in turn to the variable you \n",
    "specify. Nothing new here, that's just a `for` loop. What's different is that the expression you \n",
    "put before the `for` gives the value that will take the position of the current value in the new list. That is, if \n",
    "you're on the 4th element, then the result of the expression will be the 4th element in the new list.\n",
    "\n",
    "This is kind of an opaque explanation, so it would probably be better just to show you how it works with an example."
   ]
  },
  {
   "cell_type": "code",
   "execution_count": null,
   "metadata": {},
   "outputs": [],
   "source": [
    "data = [1, 2, 3, 4, 5]\n",
    "\n",
    "doubles = [2 * n for n in data]\n",
    "print(data)\n",
    "print(doubles)"
   ]
  },
  {
   "cell_type": "markdown",
   "metadata": {},
   "source": [
    "This list comprehension is fairly simple; all it does is double the input values. What's important to notice though \n",
    "is that the original values are unaffected, and there's no `return` or anything of that sort. Just a plain expression.\n",
    "This expression can be whatever you like, not just math, as long as it evaluates to a value. This can lead to some \n",
    "very interesting comprehensions.\n",
    "\n",
    "Also note that you don't need to only iterate over lists, despite the name. You can, for example, iterate over a \n",
    "dictionary or a string, if you feel like it."
   ]
  },
  {
   "cell_type": "code",
   "execution_count": null,
   "metadata": {},
   "outputs": [],
   "source": [
    "encoding = {'a': 'z', 'b': 'y', 'c': 'x', 'd': 'w', 'e': 'v', 'f': 'u', 'g': 't', 'h': 's', 'i': 'r', 'j': 'q', 'k': 'p', 'l': 'o', 'm': 'n', \n",
    "            'n': 'm', 'o': 'l', 'p': 'k', 'q': 'j', 'r': 'i', 's': 'h', 't': 'g', 'u': 'f', 'v': 'e', 'w': 'd', 'x': 'c', 'y': 'b', 'z': 'a', ' ': ' '}\n",
    "text = \"message to be encoded\"\n",
    "# The join is to turn the list back into a string\n",
    "encoded_text = \"\".join([encoding[c] for c in text])\n",
    "print(encoded_text)"
   ]
  },
  {
   "cell_type": "markdown",
   "metadata": {},
   "source": [
    "#### Filtering\n",
    "\n",
    "Sometimes when you're doing your transformation, you don't want all of the input to be in the output. This is where \n",
    "filtering comes in. You can use a list comprehension to create a smaller list automatically. \n",
    "```\n",
    "[<expression> for <variable> in <iterable> if <condition>]\n",
    "```\n",
    "\n",
    "You'll see now that there is what appears to be the beginning of an `if` statement in the comprehension. Again, that's \n",
    "pretty much what it is. In this case, if that condition is `True`, the value is kept, otherwise it's thrown out. \n",
    "Here's an example."
   ]
  },
  {
   "cell_type": "code",
   "execution_count": null,
   "metadata": {},
   "outputs": [],
   "source": [
    "# Generate a list of the even numbers up to 10\n",
    "evens = [n for n in range(1, 11) if n % 2 == 0]\n",
    "print(evens)"
   ]
  },
  {
   "cell_type": "markdown",
   "metadata": {},
   "source": [
    "You can see in this example that sometimes we use a comprehension not to transform the input data, but to limit it in \n",
    "some way. The expression we use is just the variable itself, which just evaluates the value of the current iteration. \n",
    "The more important part here is the conditional, which we use to discard any values that aren't even (aren't divisible \n",
    "by 2)."
   ]
  },
  {
   "cell_type": "markdown",
   "metadata": {},
   "source": [
    "#### Other Comprehensions\n",
    "\n",
    "In addition to list comprehensions, there is another kinds of comprehension you can use: dictionary comprehensions.\n",
    "To make a dictionary comprehension, you simply replace the square brackets with curly brackets (`{}`), and the expression \n",
    "with a key-value pair of expressions. For example, here's the code used to generate the encoding dictionary above."
   ]
  },
  {
   "cell_type": "code",
   "execution_count": null,
   "metadata": {},
   "outputs": [],
   "source": [
    "alphabet = \"abcdefghijklmnopqrstuvwxyz\"\n",
    "encoding = {alphabet[i]: alphabet[-(i+1)] for i in range(len(alphabet))}\n",
    "print(encoding)"
   ]
  },
  {
   "cell_type": "markdown",
   "metadata": {},
   "source": [
    "Here we see a few interesting things. First, we see the key-value expression pair, which generates a dictionary. The other \n",
    "thing we see is a reasonable use of `range(len())` for iteration, rather than `enumerate`. Now, enumerate would work perfectly \n",
    "fine here, but using `range(len())` makes it clearer that both key and value are being drawn from `alphabet`, rather than \n",
    "inserting an unnecessary variable."
   ]
  },
  {
   "cell_type": "markdown",
   "metadata": {},
   "source": [
    "### Generators\n",
    "\n",
    "Sometimes, you want to iterate over something, but you either don't know the value beforehand, or it would be inefficient \n",
    "to precalculate and put in a list (think prime numbers, which never end). This is what generators are for. \n",
    "Generators are a special kind of function that can be iterated over using a `for` loop. They use a special keyword, `yield`, \n",
    "which pauses the function while it returns a value out to whatever is iterating over it, until another value is called for, \n",
    "at which point the function restarts until it hits another `yield`. Here's an example that generates the Fibonacci sequence \n",
    "that you did as an exercise previously. This version starts at 0, and generates the first `n` Fibonacci numbers"
   ]
  },
  {
   "cell_type": "code",
   "execution_count": null,
   "metadata": {},
   "outputs": [],
   "source": [
    "def fib_generator(n):\n",
    "    i = 0\n",
    "    j = 1\n",
    "    for _ in range(n):\n",
    "        yield i # execution pauses here until called again\n",
    "        tmp = j\n",
    "        j += i\n",
    "        i = tmp\n",
    "\n",
    "for f in fib_generator(10):\n",
    "    print(f)"
   ]
  },
  {
   "cell_type": "markdown",
   "metadata": {},
   "source": [
    "You might notice that this works a lot like your function returned a list, and that's because, yet again, it kind of does. \n",
    "However, the special thing about generators is that there's never an intermediate list created. The values are taken \n",
    "directly from the generator to be used in the loop, without ever needing to create a list to hold the results.\n",
    "\n",
    "Another use of generators is to functionally create an infinite `for` loop. We can do this by simply never making the \n",
    "generator function terminate. In our `fib_generator` example, we only run the loop `n` times. However, if we wanted to make \n",
    "an infinite Fibonacci generator, we could replace the `for` with a `while True`."
   ]
  },
  {
   "cell_type": "code",
   "execution_count": null,
   "metadata": {},
   "outputs": [],
   "source": [
    "def infinite_fib_generator():\n",
    "    i = 0\n",
    "    j = 1\n",
    "    while True: # Now this will run forever\n",
    "        yield i\n",
    "        tmp = j\n",
    "        j += i\n",
    "        i = tmp\n",
    "\n",
    "# All the Fibonacci numbers below 1000\n",
    "for n in infinite_fib_generator():\n",
    "    if n > 1000:\n",
    "        break\n",
    "    print(n)"
   ]
  },
  {
   "cell_type": "markdown",
   "metadata": {},
   "source": [
    "It's generally not a good idea to use an infinite generator unless you really need it, since they can be a bit unwieldy, \n",
    "even if you try to limit them. However, it's useful to know that they exist if you need them.\n",
    "\n",
    "It's also possible to make a generator out of a class, but we won't cover that here. You can search \"Python generators\" \n",
    "in your favorite search engine and you should be able to learn about it. It mostly involves defining two specific functions.\n",
    "However, we haven't covered the little bit of work that Python does for you for iteration, which this relies on, and we won't be \n",
    "covering that here. It's not hard, it just requires going deeper into how Python works than a crash course needs."
   ]
  },
  {
   "cell_type": "markdown",
   "metadata": {},
   "source": [
    "### Default Parameters\n",
    "\n",
    "Sometimes when you are writing a function, it makes sense to have an optional parameter. For example, in Project 3, it makes \n",
    "sense for any constructor that takes an inventory to default to an empty inventory. That way, if you don't give it an \n",
    "argument, it defaults to a reasonable base state.\n",
    "\n",
    "You can create a default parameter by adding an equals sign the value you want as the default to the parameter you want to \n",
    "be optional\n",
    "\n",
    "```\n",
    "def <function-name>(<param-name> = <value>):\n",
    "    # function body\n",
    "```\n",
    "\n",
    "This doesn't really do the concept justice, so we'll give an example."
   ]
  },
  {
   "cell_type": "code",
   "execution_count": null,
   "metadata": {},
   "outputs": [],
   "source": [
    "def greet(name = \"there\"):\n",
    "    print(\"Hi {}!\".format(name))\n",
    "\n",
    "greet(\"Jeff\")\n",
    "greet(\"Tim White\")\n",
    "greet()"
   ]
  },
  {
   "cell_type": "markdown",
   "metadata": {},
   "source": [
    "You can see that because we gave the parameter a default value, then we can call the function without supplying an \n",
    "argument in that position. If we do, then the parameter has the default value, instead of what we would otherwise \n",
    "pass in.\n",
    "\n",
    "And this works for multiple arguments! You can have as many default arguments as you want. The only requirement is \n",
    "that they appear in the parameter list after all of the non-optional parameters."
   ]
  },
  {
   "cell_type": "markdown",
   "metadata": {},
   "source": [
    "#### Naming Arguments\n",
    "\n",
    "Default parameters are a really good way to set sensible defaults for complex functions/constructors. However, if \n",
    "you have multiple optional parameters, and you give fewer values than the maximum, then Python will assume you mean \n",
    "to supply the parameters in order, even if that's not what you meant. To prevent you from needing to provide a ton \n",
    "of arguments every time you want to give an option to a function, Python allows you to specify the parameter you're \n",
    "giving a value for. Here's the `greet` example, but extremely customizable."
   ]
  },
  {
   "cell_type": "code",
   "execution_count": null,
   "metadata": {},
   "outputs": [],
   "source": [
    "def greet(greeting = \"Hi\", name = \"there\", punctuation = \"!\"):\n",
    "    print(\"{}, {}{}\".format(greeting, name, punctuation))"
   ]
  },
  {
   "cell_type": "markdown",
   "metadata": {},
   "source": [
    "This is bulky and awkward, but demonstrating the concept simply is surprisingly difficult. Here's a run of the function\n",
    "with no arguments."
   ]
  },
  {
   "cell_type": "code",
   "execution_count": null,
   "metadata": {},
   "outputs": [],
   "source": [
    "greet()"
   ]
  },
  {
   "cell_type": "markdown",
   "metadata": {},
   "source": [
    "Now with named arguments for each different optional parameter."
   ]
  },
  {
   "cell_type": "code",
   "execution_count": null,
   "metadata": {},
   "outputs": [],
   "source": [
    "greet(greeting = \"Hello\")\n",
    "greet(name = \"Noel\")\n",
    "greet(punctuation = \"?\")"
   ]
  },
  {
   "cell_type": "markdown",
   "metadata": {},
   "source": [
    "Here we can see that each part that we asked to be replaced is, and we only need to supply that one argument. \n",
    "\n",
    "As a fun aside, you can do this with normal arguments. That is, even if an parameter doesn't have a default value,\n",
    "you can specify its name, then give it a value the same way as the previous example. This doesn't change the fact \n",
    "that all required arguments are still required, but it does mean that you can specify arguments out of order, if \n",
    "that somehow increases readability."
   ]
  },
  {
   "cell_type": "markdown",
   "metadata": {},
   "source": [
    "### First-Order Functions\n",
    "\n",
    "In programming, something is considered *first-order*, or *first-class* if it can be used as a value. For example, \n",
    "a variable is, by definition, first-order, since you can use it like a value anywhere. So, for a function to be \n",
    "first order, that means the function itself, not just inputs or outputs, must be able to be used like a value. In \n",
    "practice, this means it is stored in a variable for later use. \n",
    "\n",
    "To use a function as first order in Python, all you need to do is provide its name without the parentheses (this \n",
    "is the reason why we've always been so emphatic that function calls need the parentheses). It's hard to imagine how \n",
    "this works, so let's just look at an example."
   ]
  },
  {
   "cell_type": "code",
   "execution_count": null,
   "metadata": {},
   "outputs": [],
   "source": [
    "def add_one(n):\n",
    "    return n+1\n",
    "\n",
    "f = add_one\n",
    "# For those interesting in what a function looks like as a string\n",
    "print(f)\n",
    "print(f(23))\n"
   ]
  },
  {
   "cell_type": "markdown",
   "metadata": {},
   "source": [
    "You can see above that `f` does exactly the same thing as `add_one`. In fact, `f` effectively *is* `add_one`, just with a \n",
    "different name, leaving `add_one` unaffected, just like a variable normally does. Now, by itself, this concept is very useful, \n",
    "but it's hard to illustrate simply. Let's talk about a few of the common uses of functions as first-class entities."
   ]
  },
  {
   "cell_type": "markdown",
   "metadata": {},
   "source": [
    "#### Callbacks\n",
    "\n",
    "One major application of functions as first-order values is store a function and use it at some point in the future, \n",
    "usually in response to some event. This is most often referred to as a *callback*. Most often, callbacks are used \n",
    "in environments where you don't know and can't predict when something is going to happen, but you want something to \n",
    "happen when it does. Often, the circumstances that cause the event to happen are passed to the callback function, as \n",
    "a means of giving the function context for when and why it's being run. Generally, callback functions don't return \n",
    "a value.\n",
    "\n",
    "An excellent, albeit very abstract, example of a callback is having your program do something when a mouse is clicked. \n",
    "However, that's kind of difficult to set that up for an example, so here's a much simpler example."
   ]
  },
  {
   "cell_type": "code",
   "execution_count": null,
   "metadata": {},
   "outputs": [],
   "source": [
    "# Does *something* when a number is divisible by 10\n",
    "def ten_count(upper, f):\n",
    "    for i in range(upper):\n",
    "        if i % 10 == 0:\n",
    "            f(i)\n",
    "\n",
    "# The callback function. Simply prints the number given to it\n",
    "def print_num(n):\n",
    "    print(n)\n",
    "\n",
    "ten_count(100, print_num)\n",
    "# Alternatively, we could just just use `print`, since it's a function"
   ]
  },
  {
   "cell_type": "markdown",
   "metadata": {},
   "source": [
    "Here you see that we simply use `print_num` like a value, and we pass it into the function. Then the parameter we pass it in \n",
    "as is called like a function. This works the same way as assigning a function to a variable."
   ]
  },
  {
   "cell_type": "markdown",
   "metadata": {},
   "source": [
    "#### Conditions\n",
    "\n",
    "Another common use of first-class functions is to provide a condition for some purpose. These functions are similar to \n",
    "callbacks, but they return a value that's treated as a boolean. \n",
    "\n",
    "As a (again) simple example, here's the previous example, but instead of providing a callback, we provide the condition."
   ]
  },
  {
   "cell_type": "code",
   "execution_count": null,
   "metadata": {},
   "outputs": [],
   "source": [
    "# Condition, instead of callback\n",
    "def n_count(n, f):\n",
    "    for i in range(n):\n",
    "        if f(i):\n",
    "            print(i)\n",
    "\n",
    "# First, that same divisible by ten condition\n",
    "def div_by_10(n):\n",
    "    return n % 10 == 0\n",
    "\n",
    "# Non-divisibility condition\n",
    "def even_less_than_15(n):\n",
    "    return n < 15 and n % 2 == 0\n",
    "\n",
    "n_count(50, div_by_10)\n",
    "print(\"---------\") # separator\n",
    "n_count(50, even_less_than_15)\n",
    "print(\"---------\")\n",
    "n_count(8, even_less_than_15)"
   ]
  },
  {
   "cell_type": "markdown",
   "metadata": {},
   "source": [
    "You can see that these work a lot like the callbacks. However, defining a new function for each condition can be a bit \n",
    "cumbersome. Luckily, Python has an elegant solution for these kinds of functions that immediately return the result \n",
    "of a single expression."
   ]
  },
  {
   "cell_type": "markdown",
   "metadata": {},
   "source": [
    "#### Anonymous Functions: `lambda`s\n",
    "\n",
    "Keep in mind that everything we'll talk about here regarding lambdas refers strictly to Python's version. The term \"lambda\" \n",
    "means a lot of different things in different contexts, so don't assume that everything you learn here applies elsewhere, \n",
    "because it probably won't.\n",
    "\n",
    "`lambda`s are a way for an expression to behave like a function. That is, you are creating a function that is a single \n",
    "expression, and directly returns the result of that expression, without needing to write `return`. The key point of `lambda`s \n",
    "is that they don't need to be explicitly defined like a normal function. Instead, they can be created in-line, and the result \n",
    "of the `lambda` expression is your new function. The basic syntax of this is as follows.\n",
    "```\n",
    "lambda <parameter-list>: <expression>\n",
    "```\n",
    "\n",
    "The parameter list of a `lambda` is identical to that of functions, including the option for default parameters. The major difference is \n",
    "that the body of the `lambda` is a single expression, and the result of that expression is the return value of the function. \n",
    "\n",
    "In general, the parameter names of `lambda`s are kept fairly simple, often single letters - enough to be clear, but not enough \n",
    "to be complicated.\n",
    "\n",
    "Here's our `n_count` example, but with both of the condition functions being replaced by `lambda`s."
   ]
  },
  {
   "cell_type": "code",
   "execution_count": null,
   "metadata": {},
   "outputs": [],
   "source": [
    "n_count(50, lambda n: n % 10 == 0)\n",
    "print(\"---------\")\n",
    "n_count(50, lambda n: n < 15 and n % 2 == 0)"
   ]
  },
  {
   "cell_type": "markdown",
   "metadata": {},
   "source": [
    "See? `lambda`s work exactly the same as regularly defined functions, but we don't need to deal with all the potentially \n",
    "dead weight of giving the function a name or specifically writing `def`. Additionally, we can create the `lambda` in-line, \n",
    "which can't be said of normal functions, since `lambda`s are an expression, whereas a function definition is a statement.\n",
    "\n",
    "Now, there are two things to note here: 1) a `lambda` can only be a single line. Python intentionally does not support \n",
    "multi-line `lambda`s for the sake of simplicity, and 2) `lambda`s are best used in cases like condition functions, since \n",
    "the function's result is used, and the function is relatively simple. For more complex functions, or contexts where the \n",
    "result of the function doesn't matter or isn't used (like callbacks, commonly), it's often better to use a regular \n",
    "function, since complex `lambda`s can complicate reading code as much as simplify writing."
   ]
  },
  {
   "cell_type": "markdown",
   "metadata": {},
   "source": [
    "# Conclusion\n",
    "\n",
    "It can't be understated that this lesson is nothing more than an introduction to all of the concepts you've seen here. \n",
    "Every one of these has complexity and nuance that we haven't shown here. This is largely because we're still trying to\n",
    "keep these examples bite-sized and understandable, without needing to teach half a dozen other concepts to show how \n",
    "they might work in practice. \n",
    "\n",
    "The important thing to take away from this lesson is that these concepts exist, not that this is all there is to know. \n",
    "Keep an eye out for cases where they might be useful, but also make sure that they are the right fit for that problem. \n",
    "Remember the old idiom: \"When all you have is a hammer, the whole world looks like a nail\". Use the right tool for \n",
    "the job, not just the most powerful and complicated."
   ]
  }
 ],
 "metadata": {
  "kernelspec": {
   "display_name": "Python 3.10.4 64-bit",
   "language": "python",
   "name": "python3"
  },
  "language_info": {
   "codemirror_mode": {
    "name": "ipython",
    "version": 3
   },
   "file_extension": ".py",
   "mimetype": "text/x-python",
   "name": "python",
   "nbconvert_exporter": "python",
   "pygments_lexer": "ipython3",
   "version": "3.10.4"
  },
  "orig_nbformat": 4,
  "vscode": {
   "interpreter": {
    "hash": "aee8b7b246df8f9039afb4144a1f6fd8d2ca17a180786b69acc140d282b71a49"
   }
  }
 },
 "nbformat": 4,
 "nbformat_minor": 2
}
