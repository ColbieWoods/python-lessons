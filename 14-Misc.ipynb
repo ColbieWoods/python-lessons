{
 "cells": [
  {
   "cell_type": "markdown",
   "metadata": {},
   "source": [
    "# Lesson 14 - And The Rest\n",
    "\n",
    "Congratulations! You've done it! You've finished all the lessons, and now should know enough Python to more or less survive.\n",
    "Now for the post-game content! This lesson will be covering various different topics that may have been mentioned in the \n",
    "lessons otherwise, and were definitely used in the graders, but were never officially taught. This is all useful and very \n",
    "important to know, but isn't required to have a basic working knowledge of Python."
   ]
  },
  {
   "cell_type": "markdown",
   "metadata": {},
   "source": [
    "### List Comprehensions\n",
    "\n",
    "In a few different places, we've mentioned list comprehensions. However, we never explicitly covered them because, \n",
    "functionally speaking, they're not much more than syntactical sugar for `for` loops over a list. That said, they're \n",
    "very useful, and extremely convenient when working with list data. Their primary use is to make a basic transformation \n",
    "to each element of a list, and return a new list with that transformation. The basic pattern looks like this:\n",
    "\n",
    "```\n",
    "[<expression> for <variable-name> in <collection>]\n",
    "```\n",
    "\n",
    "This looks a bit ike a mixed up `for` loop, but also in square brackets. And that's because, functionally, it kind of \n",
    "is. A list comprehension iterates over the collection you give it, assigning each value in turn to the variable you \n",
    "specify. Nothing new here, that's just a `for` loop. What's different is that the expression you \n",
    "put before the `for` gives the value that will take the position of the current value in the new list. That is, if \n",
    "you're on the 4th element, then the result of the expression will be the 4th element in the new list.\n",
    "\n",
    "This is kind of an opaque explanation, so it would probably be better just to show you how it works with an example."
   ]
  },
  {
   "cell_type": "code",
   "execution_count": 2,
   "metadata": {},
   "outputs": [
    {
     "name": "stdout",
     "output_type": "stream",
     "text": [
      "[1, 2, 3, 4, 5]\n",
      "[2, 4, 6, 8, 10]\n"
     ]
    }
   ],
   "source": [
    "data = [1, 2, 3, 4, 5]\n",
    "\n",
    "doubles = [2 * n for n in data]\n",
    "print(data)\n",
    "print(doubles)"
   ]
  },
  {
   "cell_type": "markdown",
   "metadata": {},
   "source": [
    "This list comprehension is fairly simple; all it does is double the input values. What's important to notice though \n",
    "is that the original values are unaffected, and there's no `return` or anything of that sort. Just a plain expression.\n",
    "This expression can be whatever you like, not just math, as long as it evaluates to a value. This can lead to some \n",
    "very interesting comprehensions.\n",
    "\n",
    "Also note that you don't need to only iterate over lists, despite the name. You can, for example, iterate over a \n",
    "dictionary or a string, if you feel like it."
   ]
  },
  {
   "cell_type": "code",
   "execution_count": 4,
   "metadata": {},
   "outputs": [
    {
     "name": "stdout",
     "output_type": "stream",
     "text": [
      "nvhhztv gl yv vmxlwvw\n"
     ]
    }
   ],
   "source": [
    "encoding = {'a': 'z', 'b': 'y', 'c': 'x', 'd': 'w', 'e': 'v', 'f': 'u', 'g': 't', 'h': 's', 'i': 'r', 'j': 'q', 'k': 'p', 'l': 'o', 'm': 'n', \n",
    "            'n': 'm', 'o': 'l', 'p': 'k', 'q': 'j', 'r': 'i', 's': 'h', 't': 'g', 'u': 'f', 'v': 'e', 'w': 'd', 'x': 'c', 'y': 'b', 'z': 'a', ' ': ' '}\n",
    "text = \"message to be encoded\"\n",
    "# The join is to turn the list back into a string\n",
    "encoded_text = \"\".join([encoding[c] for c in text])\n",
    "print(encoded_text)"
   ]
  },
  {
   "cell_type": "markdown",
   "metadata": {},
   "source": [
    "#### Filtering\n",
    "\n",
    "Sometimes when you're doing your transformation, you don't want all of the input to be in the output. This is where \n",
    "filtering comes in. You can use a list comprehension to create a smaller list automatically. \n",
    "```\n",
    "[<expression> for <variable> in <iterable> if <condition>]\n",
    "```\n",
    "\n",
    "You'll see now that there is what appears to be the beginning of an `if` statement in the comprehension. Again, that's \n",
    "pretty much what it is. In this case, if that condition is `True`, the value is kept, otherwise it's thrown out. \n",
    "Here's an example."
   ]
  },
  {
   "cell_type": "code",
   "execution_count": 5,
   "metadata": {},
   "outputs": [
    {
     "name": "stdout",
     "output_type": "stream",
     "text": [
      "[2, 4, 6, 8, 10]\n"
     ]
    }
   ],
   "source": [
    "# Generate a list of the even numbers up to 10\n",
    "evens = [n for n in range(1, 11) if n % 2 == 0]\n",
    "print(evens)"
   ]
  },
  {
   "cell_type": "markdown",
   "metadata": {},
   "source": [
    "You can see in this example that sometimes we use a comprehension not to transform the input data, but to limit it in \n",
    "some way. The expression we use is just the variable itself, which just evaluates the value of the current iteration. \n",
    "The more important part here is the conditional, which we use to discard any values that aren't even (aren't divisible \n",
    "by 2)."
   ]
  },
  {
   "cell_type": "markdown",
   "metadata": {},
   "source": [
    "#### Other Comprehensions\n",
    "\n",
    "In addition to list comprehensions, there is another kinds of comprehension you can use: dictionary comprehensions.\n",
    "To make a dictionary comprehension, you simply replace the square brackets with curly brackets (`{}`), and the expression \n",
    "with a key-value pair of expressions. For example, here's the code used to generate the encoding dictionary above."
   ]
  },
  {
   "cell_type": "code",
   "execution_count": 6,
   "metadata": {},
   "outputs": [
    {
     "name": "stdout",
     "output_type": "stream",
     "text": [
      "{'a': 'z', 'b': 'y', 'c': 'x', 'd': 'w', 'e': 'v', 'f': 'u', 'g': 't', 'h': 's', 'i': 'r', 'j': 'q', 'k': 'p', 'l': 'o', 'm': 'n', 'n': 'm', 'o': 'l', 'p': 'k', 'q': 'j', 'r': 'i', 's': 'h', 't': 'g', 'u': 'f', 'v': 'e', 'w': 'd', 'x': 'c', 'y': 'b', 'z': 'a'}\n"
     ]
    }
   ],
   "source": [
    "alphabet = \"abcdefghijklmnopqrstuvwxyz\"\n",
    "encoding = {alphabet[i]: alphabet[-(i+1)] for i in range(len(alphabet))}\n",
    "print(encoding)"
   ]
  },
  {
   "cell_type": "markdown",
   "metadata": {},
   "source": [
    "Here we see a few interesting things. First, we see the key-value expression pair, which generates a dictionary. The other \n",
    "thing we see is a reasonable use of `range(len())` for iteration, rather than `enumerate`. Now, enumerate would work perfectly \n",
    "fine here, but using `range(len())` makes it clearer that both key and value are being drawn from `alphabet`, rather than \n",
    "inserting an unnecessary variable."
   ]
  }
 ],
 "metadata": {
  "kernelspec": {
   "display_name": "Python 3.10.4 64-bit",
   "language": "python",
   "name": "python3"
  },
  "language_info": {
   "codemirror_mode": {
    "name": "ipython",
    "version": 3
   },
   "file_extension": ".py",
   "mimetype": "text/x-python",
   "name": "python",
   "nbconvert_exporter": "python",
   "pygments_lexer": "ipython3",
   "version": "3.10.4"
  },
  "orig_nbformat": 4,
  "vscode": {
   "interpreter": {
    "hash": "aee8b7b246df8f9039afb4144a1f6fd8d2ca17a180786b69acc140d282b71a49"
   }
  }
 },
 "nbformat": 4,
 "nbformat_minor": 2
}
