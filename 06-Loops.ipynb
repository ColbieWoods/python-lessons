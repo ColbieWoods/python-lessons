{
 "cells": [
  {
   "cell_type": "markdown",
   "metadata": {},
   "source": [
    "# Lesson 6 - Loops\n",
    "\n",
    "Great job writing your first full program! You've done a great job making it this far! Now we get to \n",
    "start learning the stuff that makes programming fun.\n",
    "\n",
    "So far, in our various examples and exercises, you might have noticed that some of them would have \n",
    "been really nice to be able to do multiple times, without having to run the program each time. This \n",
    "is the job for our next structure: loops. \n",
    "\n",
    "In programming, a loop is a structure you use to repeat something a certain number of times. \n",
    "Conceptually, this is very simple, but the number of approaches to this idea give rise to an incredible \n",
    "amount of power. Python has two main forms of loop: `for` and `while`."
   ]
  },
  {
   "cell_type": "markdown",
   "metadata": {},
   "source": [
    "### `for` loops\n",
    "\n",
    "Conceptually, most of the time when you're looping, you want to *iterate* over some kind of sequence. \n",
    "This can be the characters of a string, the odd numbers between 10 and 100, or the contents of an \n",
    "arbitrary collection (foreshadowing!).\n",
    "\n",
    "```python\n",
    "for <variable-name> in <collection>:\n",
    "    # Do things with the elements of the collection\n",
    "```\n",
    "\n",
    "Here, `variable-name` is basically just a variable declaration. `collection` is just what it says it is.\n",
    "It's a collection of things that the loop iterates over in order, assigning each value to the variable \n",
    "you're creating with the loop.\n",
    "\n",
    "To properly introduce `for` loops, first we need to talk about another helper function: `range()`"
   ]
  },
  {
   "cell_type": "markdown",
   "metadata": {},
   "source": [
    "#### `range()`\n",
    "\n",
    "The `range` function does pretty much what it says - it generates a range of numbers.\n",
    "\n",
    "If you give it a single number, it generates a collection of numbers in increasing order from 0 to \n",
    "n-1, where n is the given number.\n",
    "\n",
    "If you give it two numbers, it generates a collection of numbers from the first number to the \n",
    "one less than the second number in increasing order.\n",
    "\n",
    "If you give it three numbers, it generates a collection of numbers from the first number up to, \n",
    "but not including the second number, by increments of the third number. It also works with negative \n",
    "increments, so you can use this to count down.\n",
    "\n",
    "Now, let's get to some examples."
   ]
  },
  {
   "cell_type": "markdown",
   "metadata": {},
   "source": [
    "#### Examples"
   ]
  },
  {
   "cell_type": "code",
   "execution_count": 1,
   "metadata": {},
   "outputs": [
    {
     "name": "stdout",
     "output_type": "stream",
     "text": [
      "1\n",
      "2\n",
      "3\n",
      "4\n",
      "5\n",
      "6\n",
      "7\n",
      "8\n",
      "9\n",
      "10\n"
     ]
    }
   ],
   "source": [
    "# Prints all the numbers from 1 to 10\n",
    "for n in range(10):\n",
    "    print(n + 1)\n",
    "    # remember, range() generates the numbers up to, but not including \n",
    "    # the given number, hence the +1"
   ]
  },
  {
   "cell_type": "code",
   "execution_count": 2,
   "metadata": {},
   "outputs": [
    {
     "name": "stdout",
     "output_type": "stream",
     "text": [
      "1\n",
      "2\n",
      "3\n",
      "4\n",
      "5\n",
      "6\n",
      "7\n",
      "8\n",
      "9\n",
      "10\n"
     ]
    }
   ],
   "source": [
    "# Same thing, but using the 2-value form of range\n",
    "for n in range(1, 11):\n",
    "    print(n)"
   ]
  },
  {
   "cell_type": "code",
   "execution_count": 4,
   "metadata": {},
   "outputs": [
    {
     "name": "stdout",
     "output_type": "stream",
     "text": [
      "0\n",
      "-1\n",
      "-2\n",
      "-3\n",
      "-4\n"
     ]
    }
   ],
   "source": [
    "# Let's count up to 10 by halves\n",
    "for n in range(0, -5, -1):\n",
    "    print(n)"
   ]
  },
  {
   "cell_type": "markdown",
   "metadata": {},
   "source": [
    "Notice in the last example that we have to specify the 0 that's implied in the first example. This is because if we \n",
    "didn't provide it, Python would think we were using the 2-value form, and wouldn't do anything, since `range` doesn't\n",
    "implicitly count down."
   ]
  },
  {
   "cell_type": "markdown",
   "metadata": {},
   "source": [
    "#### Looping with Strings\n",
    "\n",
    "You'll notice that we keep talking about \"collections\" and \"sequences\" when it comes to `for` loops. Well, if you \n",
    "remember from the first lesson, we described strings as a \"sequence of characters\". So what if, instead of using \n",
    "`range` with the `for` loop, we used a string? What would happen?"
   ]
  },
  {
   "cell_type": "code",
   "execution_count": null,
   "metadata": {},
   "outputs": [],
   "source": [
    "test_string = \"Hello\"\n",
    "for c in test_string:\n",
    "    print(c)"
   ]
  },
  {
   "cell_type": "markdown",
   "metadata": {},
   "source": [
    "Would you look at that! It looks like the `for` loop iterates over each character in the string, the same way it \n",
    "it iterates over every number in the ranges in the other examples. This isn't a coincidence, and we'll cover this \n",
    "more in the next lesson. But you can see that if you wanted to iterate over a string, that's a perfectly valid thing \n",
    "to do."
   ]
  },
  {
   "cell_type": "markdown",
   "metadata": {},
   "source": [
    "### `while` loops\n",
    "\n",
    "```python\n",
    "while <some-condition>:\n",
    "    # do things while <some-condition> is True\n",
    "```\n",
    "\n",
    "`for` loops are really good at iterating over collections of things. But what if you want to iterate using something \n",
    "other than a collection? For example, what if you were trying to get some kind of input from the user, but they kept \n",
    "entering it wrong, so you needed to keep prompting them for it? You could just make them run the program every time, \n",
    "but for large programs, this becomes extremely inconvenient. This is the exact kind of case that a `while` loop is \n",
    "perfect for. \n",
    "\n",
    "`while` loops keep iterating until some condition that you supply is no longer true. If the condition never becomes \n",
    "`False`, then the loop will run forever. Because of this, it is considered one of the most primitive forms of loop, \n",
    "but that also means it's incredibly flexible and pwerful. Look at the following examples \n",
    "to see how it differs from a simple `for` loop.\n",
    "\n",
    "#### Examples"
   ]
  },
  {
   "cell_type": "code",
   "execution_count": null,
   "metadata": {},
   "outputs": [],
   "source": [
    "# Prompts the user for their name until they say their name is John\n",
    "while input(\"What is your name?\") != \"John\":\n",
    "    # This will keep looping around and printing until the user enters \"John\".\n",
    "    print(\"No it isn't.\")\n",
    "\n",
    "# Prints this after the user finally enters \"John\"\n",
    "print(\"Welcome, John!\")"
   ]
  },
  {
   "cell_type": "code",
   "execution_count": null,
   "metadata": {},
   "outputs": [],
   "source": [
    "# The previous \"count to 10\" example, but with a while loop\n",
    "i = 0\n",
    "while i < 10:\n",
    "    print(i)\n",
    "    i += 1"
   ]
  },
  {
   "cell_type": "markdown",
   "metadata": {},
   "source": [
    "From this example, we can see that `for` loops are actually just a specialized form of `while` loops. You can do the \n",
    "same thing with the string example too, but we'll need to talk about a few more things before it will make sense. \n",
    "These will get covered in the next lesson on lists."
   ]
  },
  {
   "cell_type": "markdown",
   "metadata": {},
   "source": [
    "#### Sidebar: Infinite Loops\n",
    "\n",
    "At this point, you might have thought \"What if I make the condition always `True`?\" Well, This leads to a \n",
    "contruct known as an *infinite loop*. That is, a loop that will ostensibly never terminate. While infinite loops \n",
    "have some very fundamental practical applications, it's likely that you won't have any good reason to use \n",
    "one for a while (and probably not in Python). Generally, they're used to wait for certain events to happen outside \n",
    "of the program, but applications that strictly need that tend to be fairly advanced, and are thus out \n",
    "of the scope of these lessons.\n",
    "\n",
    "For completeness, here's an example of what a basic infinite loop contruct would look like. You can run this, but \n",
    "be warned that if you do it in VS Code, you're going to have a very bad time. (Took me 5 minutes to figure out \n",
    "how to kill it and get everything back up and running, and I still lost some work. For reference, it would \n",
    "take me about 5 seconds elsewhere, and I wouldn't lose anything). Outside of VS Code, you can press \"Ctrl+c\" \n",
    "to kill the program, which is what you'll have to do since it has no other way to stop.\n",
    "```python\n",
    "# A loop that runs forever, since the condition can, by definition, never be False\n",
    "while True:\n",
    "    print(\"You can't stop me!\")\n",
    "```\n",
    "\n",
    "Basically, just do your best to avoid writing infinite loops unless you know exactly what you're doing. It's \n",
    "almost definitely going to happen by accident, but you can delay that by always checking that your conditions \n",
    "are actually doing what you think they're doing."
   ]
  }
 ],
 "metadata": {
  "interpreter": {
   "hash": "aee8b7b246df8f9039afb4144a1f6fd8d2ca17a180786b69acc140d282b71a49"
  },
  "kernelspec": {
   "display_name": "Python 3.10.4 64-bit",
   "language": "python",
   "name": "python3"
  },
  "language_info": {
   "codemirror_mode": {
    "name": "ipython",
    "version": 3
   },
   "file_extension": ".py",
   "mimetype": "text/x-python",
   "name": "python",
   "nbconvert_exporter": "python",
   "pygments_lexer": "ipython3",
   "version": "3.10.4"
  },
  "orig_nbformat": 4
 },
 "nbformat": 4,
 "nbformat_minor": 2
}
