{
 "cells": [
  {
   "cell_type": "markdown",
   "metadata": {},
   "source": [
    "# Lesson 3 - Conditional Logic and Control Flow\n",
    "\n",
    "So far, the code we've seen can only have one result. This has its place, but it's not very useful most of the \n",
    "time, since there's no way to make decisions or change how your program runs without rewriting it.\n",
    "\n",
    "In comes *conditional logic*. This is a concept that allows you to change the *flow* of your program, one reason \n",
    "this concept is often referred as *control flow*. There's a lot to unpack here, so we'll just get into it."
   ]
  },
  {
   "cell_type": "markdown",
   "metadata": {},
   "source": [
    "## Conditional Logic\n",
    "\n",
    "Before we can start talking about control flow, we need to discuss logic, specifically the concept of \n",
    "*boolean logic*. This has a fancy name, but it's really just logic that only deals with things that can be `True` or\n",
    "`False`."
   ]
  },
  {
   "cell_type": "markdown",
   "metadata": {},
   "source": [
    "### Comparisons\n",
    "\n",
    "The simplest, arguably most frequent, form of boolean logic is comparisons. These are simple comparisons between \n",
    "two values which can be either true or false. The ones available in Python are\n",
    "\n",
    "- `>` - greater than\n",
    "- `<` - less than\n",
    "- `>=` - greater than or equal to (\"greater equals\")\n",
    "- `<=` - less than or equal to (\"less equals\")\n",
    "- `==` - equality\n",
    "- `!=` - inequality\n",
    "\n",
    "All of these basic operations should be more or less familiar, even if they don't look exactly familiar.\n",
    "The operators that are have an extra \"=\" are that way both for historical reasons and because no common \n",
    "keyboard has a way to conveniently type \"≤\", \"≥\", or \"≠\". Equality is just that way because `=` was already \n",
    "taken (we'll talk more about that in the next lesson).\n",
    "\n",
    "These operators work the same way they do in math, except instead of asserting a truth by being in an equation, \n",
    "they check whether the equation is true, then return the boolean value representing its truthfulness. Here are \n",
    "some examples you can play around with to test how these operators work, to confirm your knowledge."
   ]
  },
  {
   "cell_type": "code",
   "execution_count": 24,
   "metadata": {},
   "outputs": [
    {
     "name": "stdout",
     "output_type": "stream",
     "text": [
      "True\n",
      "False\n",
      "False\n",
      "True\n",
      "True\n",
      "False\n"
     ]
    }
   ],
   "source": [
    "# greater than\n",
    "print(5 > 2) # True\n",
    "# less than\n",
    "print(5 < 2) # False\n",
    "# greater equals\n",
    "print(2 >= 5) # False\n",
    "# less equals\n",
    "print(2 + 2 <= 4) # True\n",
    "# equality\n",
    "print(2**3 == 8) # True\n",
    "# inequality\n",
    "print(42 != 6 * 7) # False"
   ]
  },
  {
   "cell_type": "markdown",
   "metadata": {},
   "source": [
    "You can see in the examples above that all of these operators do what their names imply. You should also notice that we're only \n",
    "comparing like values with these operators. We'll talk more about types in the next lesson, but all you need to know \n",
    "for now is that you generally can't compare two different types of data, or else you'll get a nice little error. This makes sense, \n",
    "since comparing unrelated data usually doesn't yield useful information."
   ]
  },
  {
   "cell_type": "code",
   "execution_count": 25,
   "metadata": {},
   "outputs": [
    {
     "ename": "TypeError",
     "evalue": "'<' not supported between instances of 'int' and 'str'",
     "output_type": "error",
     "traceback": [
      "\u001b[0;31m---------------------------------------------------------------------------\u001b[0m",
      "\u001b[0;31mTypeError\u001b[0m                                 Traceback (most recent call last)",
      "\u001b[1;32m/Users/kellenwatt/dev/frc/lessons/python/03-Conditional-Logic.ipynb Cell 6'\u001b[0m in \u001b[0;36m<cell line: 1>\u001b[0;34m()\u001b[0m\n\u001b[0;32m----> <a href='vscode-notebook-cell:/Users/kellenwatt/dev/frc/lessons/python/03-Conditional-Logic.ipynb#ch0000009?line=0'>1</a>\u001b[0m \u001b[39mprint\u001b[39m(\u001b[39m4\u001b[39;49m \u001b[39m<\u001b[39;49m \u001b[39m\"\u001b[39;49m\u001b[39mfour\u001b[39;49m\u001b[39m\"\u001b[39;49m)\n",
      "\u001b[0;31mTypeError\u001b[0m: '<' not supported between instances of 'int' and 'str'"
     ]
    }
   ],
   "source": [
    "print(4 < \"four\")"
   ]
  },
  {
   "cell_type": "markdown",
   "metadata": {},
   "source": [
    "The exception to this is equality, and by extension, inequality. You can compare just about any types using equality, but \n",
    "comparing values of different types will usually result in a value of `False`, since the two things aren't equal."
   ]
  },
  {
   "cell_type": "code",
   "execution_count": null,
   "metadata": {},
   "outputs": [
    {
     "name": "stdout",
     "output_type": "stream",
     "text": [
      "False\n"
     ]
    }
   ],
   "source": [
    "print(4 == \"4\")"
   ]
  },
  {
   "cell_type": "markdown",
   "metadata": {},
   "source": [
    "### Logical Operators\n",
    "\n",
    "By themselves, comparisons are often useful, but aren't capable of expressing sufficiently complex ideas. To \n",
    "express more complex ideas, we use something calling *logical operators*, which do what they sound like. They \n",
    "take logical values - that is, things that turn into `True` or `False` - and combine them in some way that \n",
    "follows logic. \n",
    "\n",
    "In the examples that follow, each operator will demonstrate all of its possible outcomes. If you've done \n",
    "any work with logic circuits before, you'll likely recognize this as a form of *truth table*.\n",
    "\n",
    "#### AND\n",
    "Logical AND takes two values, and returns `True` if both of the values were true. It's represented by using \n",
    "the `and` operator."
   ]
  },
  {
   "cell_type": "code",
   "execution_count": null,
   "metadata": {},
   "outputs": [
    {
     "name": "stdout",
     "output_type": "stream",
     "text": [
      "False\n",
      "False\n",
      "False\n",
      "True\n"
     ]
    }
   ],
   "source": [
    "print(False and False)\n",
    "print(False and True)\n",
    "print(True and False)\n",
    "print(True and True)"
   ]
  },
  {
   "cell_type": "markdown",
   "metadata": {},
   "source": [
    "#### OR\n",
    "Logical OR takes two values, and returns `True` if either of the values is true. It's represented by\n",
    "using the `or` operator."
   ]
  },
  {
   "cell_type": "code",
   "execution_count": null,
   "metadata": {},
   "outputs": [
    {
     "name": "stdout",
     "output_type": "stream",
     "text": [
      "False\n",
      "True\n",
      "True\n",
      "True\n"
     ]
    }
   ],
   "source": [
    "print(False or False)\n",
    "print(False or True)\n",
    "print(True or False)\n",
    "print(True or True)"
   ]
  },
  {
   "cell_type": "markdown",
   "metadata": {},
   "source": [
    "It's important to remember that \"or\" in this case means that either value can be true, and that it's still true \n",
    "even if both values are `True`. This can be different to common English usage of the word \"or\", which implies an \n",
    "*exclusive or*, or a statement that is only true if one or the other is true, but not both. This can be a useful\n",
    "idea, but very few programming languages have direct support for it for historical reasons (and the surprisingly \n",
    "limited use cases)."
   ]
  },
  {
   "cell_type": "markdown",
   "metadata": {},
   "source": [
    "#### NOT\n",
    "\n",
    "Logical NOT takes a single value, and returns the logical opposite of it. That is, if given `True`, it returns\n",
    "`False`, and vice versa."
   ]
  },
  {
   "cell_type": "code",
   "execution_count": null,
   "metadata": {},
   "outputs": [
    {
     "name": "stdout",
     "output_type": "stream",
     "text": [
      "True\n",
      "False\n"
     ]
    }
   ],
   "source": [
    "print(not False)\n",
    "print(not True)"
   ]
  },
  {
   "cell_type": "markdown",
   "metadata": {},
   "source": [
    "### Combining It\n",
    "Like the operators listed in the previous lesson, logical and comparison operators can be combined to form complex \n",
    "tests to see whether or not something is true. These also follow precedence, as mentioned in the previous lessen, \n",
    "and have their own rules.\n",
    "\n",
    "Math operators hav the highest precedense, followed by comparison operators, followed by the logical operators. The \n",
    "logical operators have their own precedence, just like the math ones, but there's no clever mnemonic here to \n",
    "remember it. `and` has the highest precedence, followed by `or`, followed by `not`. Similar to math, you can use \n",
    "parentheses around any of these to increase that group's precedence"
   ]
  },
  {
   "cell_type": "markdown",
   "metadata": {},
   "source": [
    "## Control Flow\n",
    "\n",
    "Now, all of this information is nice, but the fact is, you still can't do anything with any of it other than print it out.\n",
    "The result of one statement has no impact on any other statement in the program. Part of solving this problem involves \n",
    "control flow. There are several forms of this, but in this chapter, we'll be talking abot *if statements*. "
   ]
  },
  {
   "cell_type": "markdown",
   "metadata": {},
   "source": [
    "### `if` Statements\n",
    "\n",
    "```\n",
    "if <some-condition>:\n",
    "    # the code to run if some-condition is True\n",
    "```\n",
    "\n",
    "The code that follows an `if` statement is only run if the condition in `<some-condition>` is `True`. If it's `False`,\n",
    "the code is never run or even looked at. "
   ]
  },
  {
   "cell_type": "markdown",
   "metadata": {},
   "source": [
    "#### Examples"
   ]
  },
  {
   "cell_type": "code",
   "execution_count": null,
   "metadata": {},
   "outputs": [
    {
     "name": "stdout",
     "output_type": "stream",
     "text": [
      "I'm printing\n"
     ]
    }
   ],
   "source": [
    "if True:\n",
    "    print(\"I'm printing\")"
   ]
  },
  {
   "cell_type": "code",
   "execution_count": null,
   "metadata": {},
   "outputs": [],
   "source": [
    "if False:\n",
    "    print(\"I should never print\")"
   ]
  },
  {
   "cell_type": "code",
   "execution_count": null,
   "metadata": {},
   "outputs": [
    {
     "name": "stdout",
     "output_type": "stream",
     "text": [
      "Math works!\n"
     ]
    }
   ],
   "source": [
    "if 6 * 3 > 14:\n",
    "    print(\"Math works!\")"
   ]
  },
  {
   "cell_type": "code",
   "execution_count": null,
   "metadata": {},
   "outputs": [
    {
     "name": "stdout",
     "output_type": "stream",
     "text": [
      "You can even use compound logic. Play around with it!\n"
     ]
    }
   ],
   "source": [
    "if \"Hello\" == \"World\" or 1 < 2:\n",
    "    print(\"You can even use compound logic. Play around with it!\")"
   ]
  },
  {
   "cell_type": "markdown",
   "metadata": {},
   "source": [
    "### Python and Indentation\n",
    "\n",
    "You'll notice in the `if` statement, that the line following it is indented. This is how Python groups lines of code \n",
    "together into *blocks* or *code blocks*. A block is just a group of lines of code that are bundled together for \n",
    "some purpose.  In Python, a block is denoted by a colon (`:`) followed by 1 or more lines of code indented to a \n",
    "specific, consistent level. For example, in an `if` statement, it groups code together that will only be run if the \n",
    "condition is `True`.\n",
    "\n",
    "The most important part of indentation in Python is that it ***must*** be consistent. If you use a tab to indent, \n",
    "it always needs to be a tab at that level of indentation. This means that if you have a block inside of a block, \n",
    "they need to be at two different levels, but the different levels need to be consistent. For example, you can't have\n",
    "a tab on one line and spaces to the same distance to the next line. Python will, at best, complain about this, and at \n",
    "worst, it will just go on thinking things are fine, and your code won't work as expected. *You need to be consistent*.\n",
    "\n",
    "At the lowest level, like what you've worked with so far, the indentation is 0 characters, so you haven't needed to \n",
    "worry about this. Going forward, nearly everything will require code to be in blocks. Later lessons will implicitly \n",
    "cover this more, so you'll be able to get practice and become more familiar.\n",
    "\n",
    "Whatever you do with Python in the future, pick a style and go with it. For the purposes of this tutorial, indentation \n",
    "will always be done with 4 spaces (meaning nested blocks will have 8, 12, 16, etc. spaces). This or 2 spaces are \n",
    "common standards in the Python community."
   ]
  },
  {
   "cell_type": "markdown",
   "metadata": {},
   "source": [
    "### `else` Clauses\n",
    "\n",
    "```\n",
    "if <some-condition>:\n",
    "    # Code to run if\n",
    "    # some-condition is True\n",
    "else:\n",
    "    # Code to run if \n",
    "    # some-condition is False\n",
    "```\n",
    "\n",
    "It's extremely common to want to do something when some condition is `True`, then do something else when it's `False`. \n",
    "Right now, the only way to do that is to use two `if` statements, one after the other, with the second have a *negated* \n",
    "version of the exact same condition as the first. This is doable, but incredibly awkward, and such a common pattern \n",
    "that it would lead to a huge chance of human error in every single program.\n",
    "\n",
    "Instead, we can use what's called an `else` *clause*. Similar to spoken language, a clause in programming is just a \n",
    "part of a larger structure that adds meaning, but can't necessarily stand on its own. In the case of the `else` clause, \n",
    "it's always tied to an `if` statement, but only executes the code in its block if the `if` statement's condition was `False`.\n",
    "\n",
    "Notice that the `else` clause has to be on the same indentation level as the `if` statement it belongs to. If it's on \n",
    "a different level, it will belong to a different `if` statement, if one is there, or it will just cause a syntax error.\n",
    "\n",
    "It's very important to stress that an `else` clause is entirely optional. If including it doesn't add value to your code, \n",
    "don't use it.\n",
    "\n",
    "#### Examples"
   ]
  },
  {
   "cell_type": "code",
   "execution_count": null,
   "metadata": {},
   "outputs": [
    {
     "name": "stdout",
     "output_type": "stream",
     "text": [
      "2 + 2 doesn't equal 5, silly! It obviously equals 3!\n"
     ]
    }
   ],
   "source": [
    "if 2 + 2 == 5:\n",
    "    print(\"Wait, what?\")\n",
    "else:\n",
    "    print(\"2 + 2 doesn't equal 5, silly! It obviously equals 3!\")"
   ]
  },
  {
   "cell_type": "code",
   "execution_count": 27,
   "metadata": {},
   "outputs": [
    {
     "name": "stdout",
     "output_type": "stream",
     "text": [
      "`else` even works with compund logic!\n"
     ]
    }
   ],
   "source": [
    "if True and False:\n",
    "    print(\"Something's wrong here...\")\n",
    "else:\n",
    "    print(\"`else` even works with compund logic!\")"
   ]
  },
  {
   "cell_type": "markdown",
   "metadata": {},
   "source": [
    "# `elif` clauses\n",
    "```\n",
    "if <some-condition>:\n",
    "    # code to run if some-condition is True\n",
    "elif <some-other-condition>:\n",
    "    # code to run if some-other-condition is True\n",
    "else\n",
    "    # code to run if some-condition and some-other-condition are both False\n",
    "```\n",
    "\n",
    "Another common pattern is wanting to check for something else when some condition is `False`. Based on what we know, \n",
    "we could do this by putting another `if` statement inside the `else` clause of the first `if` statement. This would \n",
    "work, and even have the effect we want, but you can imagine this would get really hard to read very quickly (There won't \n",
    "be an example or exercise for this, but I encourage you to try this for yourself at some point to see how terrible \n",
    "it really is).\n",
    "\n",
    "Enter the `elif` clause. `elif` clauses allow to add that second (or third, fourth, etc.) condition without needing \n",
    "to add a level of indentation. Using it is exactly like the fusion of `if` and `else` you would expect from the \n",
    "name. You must use it with an `if` statement, like and `else` clause, but you provide it with a condition, like \n",
    "an `if` statement. Note that the condition you use for the `elif` doesn't need to have any relation to condition \n",
    "of the original `if` statement (though it usually will, to some extent).\n",
    "\n",
    "It's also important to note that just like we saw with the original `if` statements, the `else` is optional \n",
    "after an `elif`. You can also use as many `elif`s as you like.\n",
    "\n",
    "#### Examples"
   ]
  },
  {
   "cell_type": "markdown",
   "metadata": {},
   "source": [
    "# Exercises"
   ]
  },
  {
   "cell_type": "markdown",
   "metadata": {},
   "source": []
  },
  {
   "cell_type": "markdown",
   "metadata": {},
   "source": [
    "2. Using the `and`, `or`, and `not` operators, figure out how to create an \"exclusive or\". That is, \n",
    "an operation that only returns `True` if one of the inputs is `True`, but not both."
   ]
  }
 ],
 "metadata": {
  "interpreter": {
   "hash": "aee8b7b246df8f9039afb4144a1f6fd8d2ca17a180786b69acc140d282b71a49"
  },
  "kernelspec": {
   "display_name": "Python 3.10.4 64-bit",
   "language": "python",
   "name": "python3"
  },
  "language_info": {
   "codemirror_mode": {
    "name": "ipython",
    "version": 3
   },
   "file_extension": ".py",
   "mimetype": "text/x-python",
   "name": "python",
   "nbconvert_exporter": "python",
   "pygments_lexer": "ipython3",
   "version": "3.10.4"
  },
  "orig_nbformat": 4
 },
 "nbformat": 4,
 "nbformat_minor": 2
}
