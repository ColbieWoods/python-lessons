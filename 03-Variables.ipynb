{
 "cells": [
  {
   "cell_type": "markdown",
   "metadata": {},
   "source": [
    "# Lesson 4 - Variables\n",
    "\n",
    "TODO: Rewrite this to better reflect lesson order\n",
    "\n",
    "In the last lesson (you're doing these in order, right?), we covered how to do some very basic work in a programming \n",
    "langauge, in the form of some basic math. However, there's two big problems with what we know at this point: 1)\n",
    "you can't doing anything with values that are on different lines, and 2) all of it is fixed, so you might as \n",
    "well just write the output. Right now, we don't have a solution to (2), but we'll cover that in the next few lessons. \n",
    "\n",
    "However, this lesson will address the first issue, by introducing variables. Put simply, a variable is just a label \n",
    "for a value, but the value it references can change. A good analogy is a small box that can hold one thing. The \n",
    "contents of the box can change all it wants, but the box is still the same. As such, you can refer to the box \n",
    "without knowing what it contains, and the reference is still meaningful.\n",
    "\n",
    "Comparing a programming variable to a math variable, you might think that they're seemingly opposites: the \n",
    "programming one can have any value, whereas the math one can only have one value, it's just unknown. In \n",
    "theory this is correct, but in practice you'll find that there's not much of a difference. If this difference \n",
    "between them confuses you, just concern yourself with the programming one for now. You'll eventually see that \n",
    "they're actually the same thing, just slightly different expressions of same concept."
   ]
  },
  {
   "cell_type": "markdown",
   "metadata": {},
   "source": [
    "### Syntax\n",
    "\n",
    "Declaring a variable in Python is incredibly simple. All you need to do is write a *name* for your variable, \n",
    "then assign it a value, using the `=` symbol. This looks like so:\n",
    "```\n",
    "<variable_name> = <any_value>\n",
    "```\n",
    "\n",
    "Bam! You now have a variable.\n",
    "\n",
    "Once you've declared your variable, you can assign it a new value at any time, as long as it's in scope (we'll talk \n",
    "about scope in a later chapter). To do that, just use the exact same syntax as declaring the variable to assign \n",
    "it the new value. It's just that simple."
   ]
  },
  {
   "cell_type": "markdown",
   "metadata": {},
   "source": [
    "### Usage\n",
    "\n",
    "Variables are useful for making your program responsive to its environment, instead of only having constant\n",
    "results. To do this, you can use a variable in the same way you would use any other *literal* value. Literal values \n",
    "are what we've used so far, like the numbers and strings. There are a few more types, but we'll cover those in the \n",
    "next lesson.\n",
    "\n",
    "Here's are a few examples of how you can use variables."
   ]
  },
  {
   "cell_type": "code",
   "execution_count": 5,
   "metadata": {},
   "outputs": [
    {
     "name": "stdout",
     "output_type": "stream",
     "text": [
      "50.265482448\n",
      "50.265482448\n"
     ]
    }
   ],
   "source": [
    "# Area of a circle\n",
    "pi = 3.141592653\n",
    "# The literal way:\n",
    "area = pi * 4 * 4 # radius of 4\n",
    "print(area)\n",
    "# Notice that you'll have to change both 4's every time the radius changes\n",
    "# This isn't great, and means you need to change the program every time the radius changes\n",
    "\n",
    "# The variable way\n",
    "radius = 4\n",
    "area = pi * radius * radius\n",
    "print(area)\n",
    "# Now you can just change the value of radius, and the equation never changes.\n",
    "# This will be especially useful when we start talking about functions."
   ]
  },
  {
   "cell_type": "markdown",
   "metadata": {},
   "source": [
    "You'll see that both of the examples have the exact same output, but one requires a lot less work to change. \n",
    "This is the power of variables, and it means that you as a programmer have to do less typing, and the \n",
    "computer has to do less work recalculating old values. Feel free to play around with the example and see how you can break it.\n",
    "\n",
    "Another use for variables is saving work for later use, so you don't have to recalculate it. This is especially \n",
    "useful for expensive calculations or calculations that can't give the same value twice.\n",
    "\n",
    "We'll go more into what you can do with variables in later lessons, since it's difficult to show off their utility \n",
    "with what we know right now."
   ]
  },
  {
   "cell_type": "markdown",
   "metadata": {},
   "source": [
    "### Types\n",
    "To truly understand variables, we need to talk about *types*. A type is just a class of values that have specific behaviours \n",
    "and meanings. Examples of types are strings, which is any sequence of characters, and integers, which is any whole number, \n",
    "but not any decimal number.\n",
    "\n",
    "In Python, there are 16 types by default, but we're only going to be concerned with 4 for now, though we'll learn how to \n",
    "define our own near the end of these lessons. The 4 main types we'll be dealing with are:\n",
    "- int - any whole number, including 0\n",
    "- float - any number, including every decimal number (with some limitations that you won't run into in most applications)\n",
    "- str - a string; a sequence of any amount of any characters, usually text\n",
    "- bool - a value that's either `True` or `False`.\n",
    "\n",
    "So far, we've dealt with the first three in the previous lessons. For most practical purposes, `float` and `int` are \n",
    "interchangeable, but it's good to know they're technically two different things. Often, these lessons will just refer to \n",
    "these types together as a *number* or *numeric* type. We'll cover `bool`s in the next lesson.\n",
    "\n",
    "Python is what's called a *dynamically-typed* language, meaning that you don't need to specify the type of a value to use\n",
    "it, and the language doesn't enforce types on things like variables, leaving that up to the programmer. This is most \n",
    "useful for variables, as it means you are allowed to change the type of value a variable holds without needing a new variable\n",
    "(a common occurance in other langauges). "
   ]
  },
  {
   "cell_type": "markdown",
   "metadata": {},
   "source": [
    "#### Casting\n",
    "Sometimes you'll have a value of some kind, but it's a type that isn't useful in the current situation. A common example of this\n",
    "is if you have number, especially in a variable, but you want to use it in a string. You can't just add a numeric to a string, \n",
    "since that makes no sense, so instead, you have to convert the number to a string, then combine them.\n",
    "\n",
    "This conversion between types is called *casting* or *typecasting*. This changes the type of a value so that it can be used in \n",
    "a different way. You can convert between types by writing the type name (listed above), followed by parentheses surrounding the value \n",
    "you want to cast to that type. See the example below for how to convert a numeric value to a string."
   ]
  },
  {
   "cell_type": "code",
   "execution_count": 3,
   "metadata": {},
   "outputs": [
    {
     "name": "stdout",
     "output_type": "stream",
     "text": [
      "You're number is: 134\n"
     ]
    }
   ],
   "source": [
    "guess_text = \"You're number is: \"\n",
    "number = 134\n",
    "\n",
    "# Won't work, spits out a nasty type error (\"can only concatenate str (not 'int') to str\")\n",
    "#print(guess_text + number)\n",
    "\n",
    "# Works just fine\n",
    "print(guess_text + str(number))"
   ]
  },
  {
   "cell_type": "markdown",
   "metadata": {},
   "source": [
    "Note that if the value you're trying to convert isn't valid, you'll get a nasty error complaining about it. In the example below, \n",
    "we try to convert the letter \"a\" to an integer. This doesn't make any sense, so Python complains about it."
   ]
  },
  {
   "cell_type": "code",
   "execution_count": 4,
   "metadata": {},
   "outputs": [
    {
     "ename": "ValueError",
     "evalue": "invalid literal for int() with base 10: 'a'",
     "output_type": "error",
     "traceback": [
      "\u001b[0;31m---------------------------------------------------------------------------\u001b[0m",
      "\u001b[0;31mValueError\u001b[0m                                Traceback (most recent call last)",
      "\u001b[1;32m/Users/kellenwatt/dev/frc/lessons/python/03-Variables.ipynb Cell 8'\u001b[0m in \u001b[0;36m<cell line: 1>\u001b[0;34m()\u001b[0m\n\u001b[0;32m----> <a href='vscode-notebook-cell:/Users/kellenwatt/dev/frc/lessons/python/03-Variables.ipynb#ch0000014?line=0'>1</a>\u001b[0m \u001b[39mint\u001b[39;49m(\u001b[39m\"\u001b[39;49m\u001b[39ma\u001b[39;49m\u001b[39m\"\u001b[39;49m)\n",
      "\u001b[0;31mValueError\u001b[0m: invalid literal for int() with base 10: 'a'"
     ]
    }
   ],
   "source": [
    "int(\"a\")"
   ]
  },
  {
   "cell_type": "markdown",
   "metadata": {},
   "source": [
    "You can use common sense to figure out how to convert between most types: strings that only contain numbers can \n",
    "be converted to numerics, but anything can be converted to a string."
   ]
  },
  {
   "cell_type": "markdown",
   "metadata": {},
   "source": [
    "### Interactivity (Finally!)\n",
    "\n",
    "Finally, we get to talk about the most important\n",
    "\n",
    "So we've talked about programs being interactive several times so far, but we've always either brushed passed it\n",
    "or said we'd talk about it later. Well, later is now. \n",
    "\n"
   ]
  }
 ],
 "metadata": {
  "interpreter": {
   "hash": "aee8b7b246df8f9039afb4144a1f6fd8d2ca17a180786b69acc140d282b71a49"
  },
  "kernelspec": {
   "display_name": "Python 3.10.4 64-bit",
   "language": "python",
   "name": "python3"
  },
  "language_info": {
   "codemirror_mode": {
    "name": "ipython",
    "version": 3
   },
   "file_extension": ".py",
   "mimetype": "text/x-python",
   "name": "python",
   "nbconvert_exporter": "python",
   "pygments_lexer": "ipython3",
   "version": "3.10.4"
  },
  "orig_nbformat": 4
 },
 "nbformat": 4,
 "nbformat_minor": 2
}
